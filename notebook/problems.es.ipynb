{
 "cells": [
  {
   "cell_type": "markdown",
   "id": "a41f3622",
   "metadata": {},
   "source": [
    "# Ejercicios de probabilidad"
   ]
  },
  {
   "cell_type": "markdown",
   "id": "a6bdbd89",
   "metadata": {},
   "source": [
    "## Ejercicio 1 \n",
    "\n",
    "Dos dados se lanzan una vez y se observa el total obtenido. Usa una simulación para encontrar la probabilidad estimada de que la puntuación sea mayor a 7 o un número par. Una simulación es una repetición del mismo experimento multiples veces para observar su comportamiento:\n",
    "\n",
    "- Ejecuta el experimento 1000 veces (lanza 2 dados 1000 veces, y suma el número de ambos dados).\n",
    "- Lleva ua cuenta de los números y las veces que la suma fue mayor a 7 o un número par.\n",
    "- Divide el número del paso 2 entre el número de iteraciones(1000)."
   ]
  },
  {
   "cell_type": "code",
   "execution_count": 6,
   "id": "8939d892",
   "metadata": {},
   "outputs": [
    {
     "name": "stdout",
     "output_type": "stream",
     "text": [
      "Probabilidad estimada de que la suma sea mayor que 7 o un número par: 0.6750\n"
     ]
    }
   ],
   "source": [
    "import random\n",
    "import numpy as np\n",
    "\n",
    "def roll_the_dice(n_simulations=1000):\n",
    "    count = 0\n",
    "    \n",
    "    for i in range(n_simulations):\n",
    "        # Lanzar ambos dados\n",
    "        die1 = random.randint(1, 6)\n",
    "        die2 = random.randint(1, 6)\n",
    "        total = die1 + die2\n",
    "        \n",
    "        # Verificar si la suma es > 7 o un número par\n",
    "        if total > 7 or total % 2 == 0:\n",
    "            count += 1\n",
    "    \n",
    "    # Calcular probabilidad\n",
    "    probability = count / n_simulations\n",
    "    return probability\n",
    "\n",
    "# Ejecutar simulación\n",
    "estimated_probability = roll_the_dice(1000)\n",
    "print(f\"Probabilidad estimada de que la suma sea mayor que 7 o un número par: {estimated_probability:.4f}\")\n",
    "\n"
   ]
  },
  {
   "cell_type": "markdown",
   "id": "55732bca",
   "metadata": {},
   "source": [
    "## Ejercicio 2\n",
    "\n",
    "Una caja contiene 10 bolas blancas, 20 bolas rojas y 30 bolas verdes. Si tomamos 5 bolas de la caja reemplazándolas (tomando una bola, anotando el color y luego regresandola a la caja). Queremos saber la probabilidad de:\n",
    "\n",
    "1. Tomar 3 blancas y 2 rojas.\n",
    "2. Toas todas del mismo color.\n",
    "\n",
    "Ejecuta el experimento 1000 veces y calcula las probabilidades que mencionadas."
   ]
  },
  {
   "cell_type": "code",
   "execution_count": 8,
   "id": "23244d20",
   "metadata": {},
   "outputs": [
    {
     "name": "stdout",
     "output_type": "stream",
     "text": [
      "Probabilidad de 3 blancas y 2 rojas: 0.0030\n",
      "Probabilidad de todas del mismo color: 0.0340\n"
     ]
    }
   ],
   "source": [
    "import random\n",
    "\n",
    "def simulate_balls_draw(n_simulations=1000):\n",
    "    colors = [\"White\"] * 10 + [\"Red\"] * 20 + [\"Green\"] * 30\n",
    "\n",
    "    count_3white_2red = 0\n",
    "    count_same_color = 0\n",
    "\n",
    "    for _ in range(n_simulations):\n",
    "        draw = [random.choice(colors) for _ in range(5)]  # 5 bolas con reemplazo\n",
    "        \n",
    "        # Contar colores\n",
    "        whites = draw.count(\"White\")\n",
    "        reds = draw.count(\"Red\")\n",
    "        greens = draw.count(\"Green\")\n",
    "        \n",
    "        # Condición 1: 3 blancas y 2 rojas\n",
    "        if whites == 3 and reds == 2:\n",
    "            count_3white_2red += 1\n",
    "        \n",
    "        # Condición 2: todas del mismo color\n",
    "        if whites == 5 or reds == 5 or greens == 5:\n",
    "            count_same_color += 1\n",
    "\n",
    "    # Calcular probabilidades\n",
    "    p_3white_2red = count_3white_2red / n_simulations\n",
    "    p_same_color = count_same_color / n_simulations\n",
    "\n",
    "    return p_3white_2red, p_same_color\n",
    "\n",
    "\n",
    "# Ejecutar simulación\n",
    "p1, p2 = simulate_balls_draw(1000)\n",
    "\n",
    "print(f\"Probabilidad de 3 blancas y 2 rojas: {p1:.4f}\")\n",
    "print(f\"Probabilidad de todas del mismo color: {p2:.4f}\")\n"
   ]
  }
 ],
 "metadata": {
  "kernelspec": {
   "display_name": "Python 3",
   "language": "python",
   "name": "python3"
  },
  "language_info": {
   "codemirror_mode": {
    "name": "ipython",
    "version": 3
   },
   "file_extension": ".py",
   "mimetype": "text/x-python",
   "name": "python",
   "nbconvert_exporter": "python",
   "pygments_lexer": "ipython3",
   "version": "3.11.4"
  }
 },
 "nbformat": 4,
 "nbformat_minor": 5
}
